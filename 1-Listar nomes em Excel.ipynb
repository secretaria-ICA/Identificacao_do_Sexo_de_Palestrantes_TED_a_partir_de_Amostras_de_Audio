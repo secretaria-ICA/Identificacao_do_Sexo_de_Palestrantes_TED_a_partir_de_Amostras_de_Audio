{
 "cells": [
  {
   "cell_type": "markdown",
   "metadata": {},
   "source": [
    "# Objetivo deste caderno:\n",
    "- Obter uma lista de cada um dos palestrantes\n",
    "- Salvar em uma tabela de excel o nome e a data da palestra, se houver\n",
    "- No Excel, por fora, vou preencher data de nascimento e sexo"
   ]
  },
  {
   "cell_type": "markdown",
   "metadata": {},
   "source": [
    "## Obter uma lista de cada um dos palestrantes\n"
   ]
  },
  {
   "cell_type": "markdown",
   "metadata": {},
   "source": [
    "Antes de realizar o préprocessamento pelo Python,eu alterei o nome de uma das pastas em sph em stm de 'Halla_Tomasdottir' para \"HallaTomasdottir\". Como era uma única observação, optei pela alteração manual."
   ]
  },
  {
   "cell_type": "code",
   "execution_count": 33,
   "metadata": {},
   "outputs": [],
   "source": [
    "import os\n",
    "import re\n",
    "import numpy as np\n",
    "import pandas as pd\n",
    "import requests\n",
    "import json\n",
    "import time"
   ]
  },
  {
   "cell_type": "code",
   "execution_count": 2,
   "metadata": {},
   "outputs": [],
   "source": [
    "test_sph=os.listdir('TEDLIUM_release1/test/sph/')\n",
    "test_sph=[x[:-4] for x in test_sph]\n",
    "\n",
    "test_stm=os.listdir('TEDLIUM_release1/test/stm/')\n",
    "test_stm=[x[:-4] for x in test_stm]\n",
    "\n",
    "train_sph=os.listdir('TEDLIUM_release1/train/sph/')\n",
    "train_sph=[x[:-4] for x in train_sph]\n",
    "\n",
    "train_stm=os.listdir('TEDLIUM_release1/train/stm/')\n",
    "train_stm=[x[:-4] for x in train_stm]"
   ]
  },
  {
   "cell_type": "code",
   "execution_count": 3,
   "metadata": {},
   "outputs": [
    {
     "data": {
      "text/plain": [
       "True"
      ]
     },
     "execution_count": 3,
     "metadata": {},
     "output_type": "execute_result"
    }
   ],
   "source": [
    "train_sph==train_stm"
   ]
  },
  {
   "cell_type": "code",
   "execution_count": 4,
   "metadata": {},
   "outputs": [
    {
     "data": {
      "text/plain": [
       "True"
      ]
     },
     "execution_count": 4,
     "metadata": {},
     "output_type": "execute_result"
    }
   ],
   "source": [
    "test_sph==test_stm"
   ]
  },
  {
   "cell_type": "code",
   "execution_count": 5,
   "metadata": {},
   "outputs": [],
   "source": [
    "nome_ano_test=[i.split('_') for i in test_sph]\n",
    "for i in nome_ano_test:\n",
    "    i.append('Test')\n",
    "nome_ano_train=[i.split('_') for i in train_sph]\n",
    "for i in nome_ano_train:\n",
    "    i.append('Train')"
   ]
  },
  {
   "cell_type": "code",
   "execution_count": 6,
   "metadata": {},
   "outputs": [],
   "source": [
    "test=pd.DataFrame(nome_ano_test,columns=['Nome','Ano','Set'])\n",
    "train=pd.DataFrame(nome_ano_train,columns=['Nome','Ano','Set'])"
   ]
  },
  {
   "cell_type": "code",
   "execution_count": 7,
   "metadata": {},
   "outputs": [],
   "source": [
    "def sep_nome(nome):\n",
    "    for i in np.unique(re.findall('[A-Z]',nome)):\n",
    "        nome=nome.replace(i,' '+i)\n",
    "    return nome"
   ]
  },
  {
   "cell_type": "code",
   "execution_count": 8,
   "metadata": {},
   "outputs": [],
   "source": [
    "test.Nome=test.Nome.apply(lambda x: sep_nome(x)).str.lstrip()\n",
    "test.Ano=test.Ano.apply(lambda x:re.sub('[^0-9]','',x))"
   ]
  },
  {
   "cell_type": "code",
   "execution_count": 9,
   "metadata": {},
   "outputs": [],
   "source": [
    "train.Nome=train.Nome.apply(lambda x: sep_nome(x)).str.lstrip()\n",
    "train.Ano=train.Ano.apply(lambda x:re.sub('[^0-9]','',x))"
   ]
  },
  {
   "cell_type": "code",
   "execution_count": 10,
   "metadata": {},
   "outputs": [],
   "source": [
    "tabela=train.append(test)"
   ]
  },
  {
   "cell_type": "markdown",
   "metadata": {},
   "source": [
    "#### pré-processamento extra\n",
    "Algumas palestras da base são números musicais ou têm dois palestrantes. Quando tem 2 palestrantes ou um grupo, temos 4 palavras(NOME1 SOBRENOME1 NOME2 SOBRENOME2) e quando é um número musical, todas as letras do nome da música estão maiúsculas. Como eu adicionei um espaço antes de todas letras maiúsculas, só preciso contar o número de espaços no nome para filtrar. "
   ]
  },
  {
   "cell_type": "code",
   "execution_count": 11,
   "metadata": {},
   "outputs": [
    {
     "data": {
      "text/plain": [
       "715    Teresa Carreno Orchestra\n",
       "77                Bruce Mc Call\n",
       "730             Tim Berners Lee\n",
       "7               Jane Mc Gonigal\n",
       "765        Yann Arthus Bertrand\n",
       "Name: Nome, dtype: object"
      ]
     },
     "execution_count": 11,
     "metadata": {},
     "output_type": "execute_result"
    }
   ],
   "source": [
    "tabela.Nome[tabela.Nome.str.count(' ')==2].sample(5)"
   ]
  },
  {
   "cell_type": "code",
   "execution_count": 12,
   "metadata": {},
   "outputs": [
    {
     "data": {
      "text/plain": [
       "287             His Holiness The Karmapa\n",
       "717                            The L X D\n",
       "632       Rufus Griscomand Alisa Volkman\n",
       "52     Beverly Joubertand Dereck Joubert\n",
       "720                 They Might Be Giants\n",
       "Name: Nome, dtype: object"
      ]
     },
     "execution_count": 12,
     "metadata": {},
     "output_type": "execute_result"
    }
   ],
   "source": [
    "tabela.Nome[tabela.Nome.str.count(' ')==3].sample(5)"
   ]
  },
  {
   "cell_type": "code",
   "execution_count": 13,
   "metadata": {},
   "outputs": [
    {
     "data": {
      "text/plain": [
       "341               Jill Sobuleand Julia Sweeney S H O W\n",
       "489                   Murray Gell Mann L A N G U A G E\n",
       "342    Jill Sobule M A N H A T T A N I N J A N U A R Y\n",
       "585                       Raul Midon E V E R Y B O D Y\n",
       "753                 Vusi Mahlasela S O N G O F M A M A\n",
       "Name: Nome, dtype: object"
      ]
     },
     "execution_count": 13,
     "metadata": {},
     "output_type": "execute_result"
    }
   ],
   "source": [
    "tabela.Nome[tabela.Nome.str.count(' ')>3].sample(5)"
   ]
  },
  {
   "cell_type": "code",
   "execution_count": 14,
   "metadata": {},
   "outputs": [
    {
     "data": {
      "text/plain": [
       "((774, 3), (11, 3), (785, 3))"
      ]
     },
     "execution_count": 14,
     "metadata": {},
     "output_type": "execute_result"
    }
   ],
   "source": [
    "train.shape,test.shape,tabela.shape"
   ]
  },
  {
   "cell_type": "code",
   "execution_count": 15,
   "metadata": {},
   "outputs": [],
   "source": [
    "tabela=tabela[tabela.Nome.str.count(' ')<3]"
   ]
  },
  {
   "cell_type": "markdown",
   "metadata": {},
   "source": [
    "### Adicionar coluna de sexo"
   ]
  },
  {
   "cell_type": "code",
   "execution_count": 16,
   "metadata": {},
   "outputs": [],
   "source": [
    "tabela['Sexo']=''"
   ]
  },
  {
   "cell_type": "markdown",
   "metadata": {},
   "source": [
    "## Descobrir sexo via API"
   ]
  },
  {
   "cell_type": "code",
   "execution_count": 23,
   "metadata": {},
   "outputs": [],
   "source": [
    "tabela['Primo Nome']=tabela.Nome.str.split(' ',expand=True)[0]#.unique()"
   ]
  },
  {
   "cell_type": "code",
   "execution_count": 27,
   "metadata": {},
   "outputs": [],
   "source": [
    "decoder=json.JSONDecoder()"
   ]
  },
  {
   "cell_type": "code",
   "execution_count": 30,
   "metadata": {},
   "outputs": [],
   "source": [
    "nomes=tabela['Primo Nome'].unique()"
   ]
  },
  {
   "cell_type": "code",
   "execution_count": 31,
   "metadata": {},
   "outputs": [],
   "source": [
    "dicio_nomes={}"
   ]
  },
  {
   "cell_type": "code",
   "execution_count": 37,
   "metadata": {},
   "outputs": [
    {
     "data": {
      "text/plain": [
       "416"
      ]
     },
     "execution_count": 37,
     "metadata": {},
     "output_type": "execute_result"
    }
   ],
   "source": [
    "len(nomes)"
   ]
  },
  {
   "cell_type": "code",
   "execution_count": 40,
   "metadata": {},
   "outputs": [],
   "source": [
    "for n in nomes:\n",
    "    dicio_nomes[n]=decoder.decode(requests.get('https://api.genderize.io/?name='+n.lower()).text)\n",
    "    time.sleep(1) # para não dar pau"
   ]
  },
  {
   "cell_type": "code",
   "execution_count": 44,
   "metadata": {},
   "outputs": [],
   "source": [
    "probs=pd.DataFrame(dicio_nomes).T"
   ]
  },
  {
   "cell_type": "code",
   "execution_count": 48,
   "metadata": {},
   "outputs": [],
   "source": [
    "probs.gender=probs.gender.replace({'male':'M','female':'F'})"
   ]
  },
  {
   "cell_type": "code",
   "execution_count": 56,
   "metadata": {},
   "outputs": [
    {
     "data": {
      "text/plain": [
       "<matplotlib.axes._subplots.AxesSubplot at 0x2785ab55ac0>"
      ]
     },
     "execution_count": 56,
     "metadata": {},
     "output_type": "execute_result"
    },
    {
     "data": {
      "image/png": "[encoded data removed]",
      "text/plain": [
       "<Figure size 432x288 with 1 Axes>"
      ]
     },
     "metadata": {
      "needs_background": "light"
     },
     "output_type": "display_data"
    }
   ],
   "source": [
    "probs['probability'].hist(bins=20)"
   ]
  },
  {
   "cell_type": "code",
   "execution_count": 57,
   "metadata": {},
   "outputs": [
    {
     "name": "stderr",
     "output_type": "stream",
     "text": [
      "<ipython-input-57-67ce9bc675d6>:1: UserWarning: Boolean Series key will be reindexed to match DataFrame index.\n",
      "  probs[probs.probability<0.99][probs.probability>0.95]\n"
     ]
    },
    {
     "data": {
      "text/html": [
       "<div>\n",
       "<style scoped>\n",
       "    .dataframe tbody tr th:only-of-type {\n",
       "        vertical-align: middle;\n",
       "    }\n",
       "\n",
       "    .dataframe tbody tr th {\n",
       "        vertical-align: top;\n",
       "    }\n",
       "\n",
       "    .dataframe thead th {\n",
       "        text-align: right;\n",
       "    }\n",
       "</style>\n",
       "<table border=\"1\" class=\"dataframe\">\n",
       "  <thead>\n",
       "    <tr style=\"text-align: right;\">\n",
       "      <th></th>\n",
       "      <th>name</th>\n",
       "      <th>gender</th>\n",
       "      <th>probability</th>\n",
       "      <th>count</th>\n",
       "    </tr>\n",
       "  </thead>\n",
       "  <tbody>\n",
       "    <tr>\n",
       "      <th>Adam</th>\n",
       "      <td>adam</td>\n",
       "      <td>M</td>\n",
       "      <td>0.98</td>\n",
       "      <td>116396</td>\n",
       "    </tr>\n",
       "    <tr>\n",
       "      <th>Aditi</th>\n",
       "      <td>aditi</td>\n",
       "      <td>F</td>\n",
       "      <td>0.97</td>\n",
       "      <td>341</td>\n",
       "    </tr>\n",
       "    <tr>\n",
       "      <th>Aimee</th>\n",
       "      <td>aimee</td>\n",
       "      <td>F</td>\n",
       "      <td>0.97</td>\n",
       "      <td>2868</td>\n",
       "    </tr>\n",
       "    <tr>\n",
       "      <th>Alison</th>\n",
       "      <td>alison</td>\n",
       "      <td>F</td>\n",
       "      <td>0.98</td>\n",
       "      <td>25555</td>\n",
       "    </tr>\n",
       "    <tr>\n",
       "      <th>Anil</th>\n",
       "      <td>anil</td>\n",
       "      <td>M</td>\n",
       "      <td>0.97</td>\n",
       "      <td>6560</td>\n",
       "    </tr>\n",
       "    <tr>\n",
       "      <th>...</th>\n",
       "      <td>...</td>\n",
       "      <td>...</td>\n",
       "      <td>...</td>\n",
       "      <td>...</td>\n",
       "    </tr>\n",
       "    <tr>\n",
       "      <th>Wade</th>\n",
       "      <td>wade</td>\n",
       "      <td>M</td>\n",
       "      <td>0.96</td>\n",
       "      <td>1695</td>\n",
       "    </tr>\n",
       "    <tr>\n",
       "      <th>Will</th>\n",
       "      <td>will</td>\n",
       "      <td>M</td>\n",
       "      <td>0.97</td>\n",
       "      <td>15251</td>\n",
       "    </tr>\n",
       "    <tr>\n",
       "      <th>Yann</th>\n",
       "      <td>yann</td>\n",
       "      <td>M</td>\n",
       "      <td>0.98</td>\n",
       "      <td>28202</td>\n",
       "    </tr>\n",
       "    <tr>\n",
       "      <th>Yves</th>\n",
       "      <td>yves</td>\n",
       "      <td>M</td>\n",
       "      <td>0.98</td>\n",
       "      <td>27837</td>\n",
       "    </tr>\n",
       "    <tr>\n",
       "      <th>Zainab</th>\n",
       "      <td>zainab</td>\n",
       "      <td>F</td>\n",
       "      <td>0.98</td>\n",
       "      <td>2261</td>\n",
       "    </tr>\n",
       "  </tbody>\n",
       "</table>\n",
       "<p>143 rows × 4 columns</p>\n",
       "</div>"
      ],
      "text/plain": [
       "          name gender probability   count\n",
       "Adam      adam      M        0.98  116396\n",
       "Aditi    aditi      F        0.97     341\n",
       "Aimee    aimee      F        0.97    2868\n",
       "Alison  alison      F        0.98   25555\n",
       "Anil      anil      M        0.97    6560\n",
       "...        ...    ...         ...     ...\n",
       "Wade      wade      M        0.96    1695\n",
       "Will      will      M        0.97   15251\n",
       "Yann      yann      M        0.98   28202\n",
       "Yves      yves      M        0.98   27837\n",
       "Zainab  zainab      F        0.98    2261\n",
       "\n",
       "[143 rows x 4 columns]"
      ]
     },
     "execution_count": 57,
     "metadata": {},
     "output_type": "execute_result"
    }
   ],
   "source": [
    "probs[probs.probability<0.99][probs.probability>0.95]"
   ]
  },
  {
   "cell_type": "code",
   "execution_count": 66,
   "metadata": {},
   "outputs": [],
   "source": [
    "probs['vals']=np.where(probs.probability>0.95,probs.gender,'')"
   ]
  },
  {
   "cell_type": "code",
   "execution_count": 74,
   "metadata": {},
   "outputs": [],
   "source": [
    "tabela['Sexo']=tabela['Primo Nome'].map(dict(probs.vals))"
   ]
  },
  {
   "cell_type": "markdown",
   "metadata": {},
   "source": [
    "## Salvar em uma tabela de excel o nome e a data da palestra, se houver"
   ]
  },
  {
   "cell_type": "code",
   "execution_count": 76,
   "metadata": {},
   "outputs": [],
   "source": [
    "tabela.to_excel('Registro_Palestrantes.xlsx')"
   ]
  },
  {
   "cell_type": "markdown",
   "metadata": {},
   "source": [
    "## No Excel, por fora, vou preencher o resto do sexo"
   ]
  }
 ],
 "metadata": {
  "kernelspec": {
   "display_name": "Python 3",
   "language": "python",
   "name": "python3"
  },
  "language_info": {
   "codemirror_mode": {
    "name": "ipython",
    "version": 3
   },
   "file_extension": ".py",
   "mimetype": "text/x-python",
   "name": "python",
   "nbconvert_exporter": "python",
   "pygments_lexer": "ipython3",
   "version": "3.8.1"
  }
 },
 "nbformat": 4,
 "nbformat_minor": 4
}
