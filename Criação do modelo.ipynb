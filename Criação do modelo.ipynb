{
 "cells": [
  {
   "cell_type": "markdown",
   "metadata": {},
   "source": [
    "# Objetivos do caderno\n",
    "- Selecionar 50% de homens e 50% de mulheres\n",
    "- Salvar em uma lista o nome das pessoas selecionadas\n",
    "- Extrair 10 extratos de áudio de cada"
   ]
  },
  {
   "cell_type": "code",
   "execution_count": 78,
   "metadata": {},
   "outputs": [],
   "source": [
    "import pandas as pd\n",
    "import numpy as np\n",
    "import os\n",
    "import sphfile as sph\n",
    "import matplotlib.pyplot as plt\n",
    "import librosa\n",
    "import ipywidgets as widgets\n",
    "import scipy.io.wavfile as wav\n",
    "from sklearn.model_selection import train_test_split\n",
    "from sklearn import metrics\n",
    "\n",
    "import seaborn as sb\n",
    "\n",
    "plt.style.use('ggplot')\n",
    "\n",
    "import keras\n",
    "import tensorflow as tf\n",
    "from tensorflow.keras.layers import *"
   ]
  },
  {
   "cell_type": "markdown",
   "metadata": {},
   "source": [
    "## Selecionar 50% homens e 50% mulheres"
   ]
  },
  {
   "cell_type": "code",
   "execution_count": 2,
   "metadata": {},
   "outputs": [],
   "source": [
    "palestras=pd.read_excel(\"Registro_Palestrantes.xlsx\",index_col=0)"
   ]
  },
  {
   "cell_type": "code",
   "execution_count": 3,
   "metadata": {},
   "outputs": [
    {
     "data": {
      "text/plain": [
       "M    0.774366\n",
       "F    0.225634\n",
       "Name: Sexo, dtype: float64"
      ]
     },
     "execution_count": 3,
     "metadata": {},
     "output_type": "execute_result"
    }
   ],
   "source": [
    "palestras.Sexo.value_counts(normalize=True)"
   ]
  },
  {
   "cell_type": "code",
   "execution_count": 4,
   "metadata": {},
   "outputs": [
    {
     "data": {
      "text/plain": [
       "M    580\n",
       "F    169\n",
       "Name: Sexo, dtype: int64"
      ]
     },
     "execution_count": 4,
     "metadata": {},
     "output_type": "execute_result"
    }
   ],
   "source": [
    "palestras.Sexo.value_counts()"
   ]
  },
  {
   "cell_type": "code",
   "execution_count": 5,
   "metadata": {},
   "outputs": [],
   "source": [
    "samp_m=palestras[palestras.Sexo=='M'].sample(50)\n",
    "samp_f=palestras[palestras.Sexo=='F'].sample(50)\n",
    "samp=samp_m.append(samp_f)\n",
    "samp=samp.sample(frac=1)"
   ]
  },
  {
   "cell_type": "code",
   "execution_count": 6,
   "metadata": {},
   "outputs": [],
   "source": [
    "samp=samp.iloc[:,:5]"
   ]
  },
  {
   "cell_type": "code",
   "execution_count": 7,
   "metadata": {},
   "outputs": [],
   "source": [
    "samp['Set2']=['Teste' if i>0.9 else 'Treino' for i in np.random.rand(samp.shape[0])]"
   ]
  },
  {
   "cell_type": "code",
   "execution_count": 8,
   "metadata": {},
   "outputs": [
    {
     "data": {
      "text/plain": [
       "Treino    89\n",
       "Teste     11\n",
       "Name: Set2, dtype: int64"
      ]
     },
     "execution_count": 8,
     "metadata": {},
     "output_type": "execute_result"
    }
   ],
   "source": [
    "samp['Set2'].value_counts()"
   ]
  },
  {
   "cell_type": "code",
   "execution_count": 9,
   "metadata": {},
   "outputs": [],
   "source": [
    "samp.to_parquet('Palestrantes_Selecionados.parquet')"
   ]
  },
  {
   "cell_type": "markdown",
   "metadata": {},
   "source": [
    "## Extrair 10 extratos de áudio de cada"
   ]
  },
  {
   "cell_type": "code",
   "execution_count": 10,
   "metadata": {},
   "outputs": [],
   "source": [
    "try:\n",
    "    samp==1\n",
    "except:\n",
    "    samp=pd.read_parquet('Palestrantes_Selecionados.parquet')"
   ]
  },
  {
   "cell_type": "markdown",
   "metadata": {},
   "source": [
    "# #####\n",
    "# Mudar o formato do dataframe\n",
    "# #####\n",
    "\n",
    "| Nome | Ano | Sexo | t_min | t_max "
   ]
  },
  {
   "cell_type": "code",
   "execution_count": 11,
   "metadata": {},
   "outputs": [],
   "source": [
    "samp=samp.reset_index(drop=True)"
   ]
  },
  {
   "cell_type": "code",
   "execution_count": 12,
   "metadata": {},
   "outputs": [],
   "source": [
    "samp.Sexo=samp.Sexo.replace({'M':1,'F':0})"
   ]
  },
  {
   "cell_type": "code",
   "execution_count": null,
   "metadata": {},
   "outputs": [],
   "source": []
  },
  {
   "cell_type": "code",
   "execution_count": 13,
   "metadata": {},
   "outputs": [],
   "source": [
    "df=pd.DataFrame(columns=['Nome','Ano','Sexo','Set','t_min','t_max','AudioName'])"
   ]
  },
  {
   "cell_type": "code",
   "execution_count": 14,
   "metadata": {},
   "outputs": [],
   "source": [
    "for indice in samp.index:\n",
    "    try:\n",
    "        nome=samp.loc[indice,'Nome'].replace(' ','')\n",
    "        ano=str(samp.loc[indice,'Ano'])\n",
    "        sexo=samp.loc[indice,'Sexo']\n",
    "        set_=samp.loc[indice,'Set'].lower()\n",
    "        audio_name=[x for x in os.listdir(f\"TEDLIUM_release1/{set_}/sph/\") if x.startswith(nome+'_'+ano)][0]\n",
    "        audio=sph.SPHFile(f\"TEDLIUM_release1/{set_}/sph/{audio_name}\")\n",
    "        texto=[x for x in os.listdir(f\"TEDLIUM_release1/{set_}/stm/\") if x.startswith(nome+'_'+ano)][0]\n",
    "        tr=open((f\"TEDLIUM_release1/{set_}/stm/{texto}\"))\n",
    "        texto=tr.readlines()\n",
    "        tr.close()\n",
    "\n",
    "        tempo=[tuple(tx.split(' ')[3:5]) for tx in texto]\n",
    "        tempo=[(float(t[0]),float(t[1])) for t in tempo]\n",
    "        duration=[float(t[1])-float(t[0]) for t in tempo]\n",
    "        idx=np.where(pd.Series(duration)>2)[0]\n",
    "        \n",
    "        \n",
    "        sr=audio.format['sample_rate']\n",
    "        for t in range(len(idx)):\n",
    "            init=np.round(tempo[idx[t]][0]+duration[idx[t]]*np.random.rand())\n",
    "            end=init+2\n",
    "            df=df.append(pd.DataFrame(dict(zip(df.columns,[nome,ano,sexo,set_,init,end,audio_name])),index=[0]),ignore_index=True)\n",
    "        \n",
    "        \n",
    "#         corte=[(int(t[0]*sr),int(t[1]*sr)) for t in tempo]        \n",
    "        \n",
    "#         corte=[audio.content[c[0]:c[1]] for c in corte]\n",
    "#         corte=[corte[i].astype(float) for i in idx]\n",
    "        \n",
    "    #    print(4)\n",
    "#         for ct in corte:\n",
    "#             along=0.95+0.1*np.random.rand()\n",
    "#             intensidade=0.9+0.2*np.random.rand()\n",
    "#             c_along=intensidade*librosa.effects.time_stretch(ct,along)\n",
    "#     #        print(5)\n",
    "#             for j in range(5):\n",
    "#                 try:\n",
    "#                     init=np.random.randint(c_along.shape[0]-32000)\n",
    "#                     trilha=np.vstack([trilha,np.concatenate((c_along[init:init+32000],np.array([samp.loc[indice,'Sexo']])))])\n",
    "#                 except:\n",
    "#                     pass\n",
    "    except:\n",
    "        print(indice)"
   ]
  },
  {
   "cell_type": "code",
   "execution_count": 15,
   "metadata": {},
   "outputs": [],
   "source": [
    "df['path']=df.Nome+'_'+df.Ano"
   ]
  },
  {
   "cell_type": "code",
   "execution_count": 16,
   "metadata": {},
   "outputs": [],
   "source": [
    "df.to_csv('df_in.csv',index=False)"
   ]
  },
  {
   "cell_type": "code",
   "execution_count": 17,
   "metadata": {},
   "outputs": [
    {
     "data": {
      "text/plain": [
       "96"
      ]
     },
     "execution_count": 17,
     "metadata": {},
     "output_type": "execute_result"
    }
   ],
   "source": [
    "df.Nome.nunique()"
   ]
  },
  {
   "cell_type": "code",
   "execution_count": 18,
   "metadata": {},
   "outputs": [
    {
     "data": {
      "text/html": [
       "<div>\n",
       "<style scoped>\n",
       "    .dataframe tbody tr th:only-of-type {\n",
       "        vertical-align: middle;\n",
       "    }\n",
       "\n",
       "    .dataframe tbody tr th {\n",
       "        vertical-align: top;\n",
       "    }\n",
       "\n",
       "    .dataframe thead th {\n",
       "        text-align: right;\n",
       "    }\n",
       "</style>\n",
       "<table border=\"1\" class=\"dataframe\">\n",
       "  <thead>\n",
       "    <tr style=\"text-align: right;\">\n",
       "      <th></th>\n",
       "      <th>Nome</th>\n",
       "      <th>Ano</th>\n",
       "      <th>Sexo</th>\n",
       "      <th>Set</th>\n",
       "      <th>t_min</th>\n",
       "      <th>t_max</th>\n",
       "      <th>AudioName</th>\n",
       "      <th>path</th>\n",
       "    </tr>\n",
       "  </thead>\n",
       "  <tbody>\n",
       "    <tr>\n",
       "      <th>0</th>\n",
       "      <td>RichardBaraniuk</td>\n",
       "      <td>2006</td>\n",
       "      <td>1</td>\n",
       "      <td>train</td>\n",
       "      <td>1012.0</td>\n",
       "      <td>1014.0</td>\n",
       "      <td>RichardBaraniuk_2006.sph</td>\n",
       "      <td>RichardBaraniuk_2006</td>\n",
       "    </tr>\n",
       "    <tr>\n",
       "      <th>1</th>\n",
       "      <td>RichardBaraniuk</td>\n",
       "      <td>2006</td>\n",
       "      <td>1</td>\n",
       "      <td>train</td>\n",
       "      <td>1036.0</td>\n",
       "      <td>1038.0</td>\n",
       "      <td>RichardBaraniuk_2006.sph</td>\n",
       "      <td>RichardBaraniuk_2006</td>\n",
       "    </tr>\n",
       "    <tr>\n",
       "      <th>2</th>\n",
       "      <td>RichardBaraniuk</td>\n",
       "      <td>2006</td>\n",
       "      <td>1</td>\n",
       "      <td>train</td>\n",
       "      <td>111.0</td>\n",
       "      <td>113.0</td>\n",
       "      <td>RichardBaraniuk_2006.sph</td>\n",
       "      <td>RichardBaraniuk_2006</td>\n",
       "    </tr>\n",
       "    <tr>\n",
       "      <th>3</th>\n",
       "      <td>RichardBaraniuk</td>\n",
       "      <td>2006</td>\n",
       "      <td>1</td>\n",
       "      <td>train</td>\n",
       "      <td>1049.0</td>\n",
       "      <td>1051.0</td>\n",
       "      <td>RichardBaraniuk_2006.sph</td>\n",
       "      <td>RichardBaraniuk_2006</td>\n",
       "    </tr>\n",
       "    <tr>\n",
       "      <th>4</th>\n",
       "      <td>RichardBaraniuk</td>\n",
       "      <td>2006</td>\n",
       "      <td>1</td>\n",
       "      <td>train</td>\n",
       "      <td>1058.0</td>\n",
       "      <td>1060.0</td>\n",
       "      <td>RichardBaraniuk_2006.sph</td>\n",
       "      <td>RichardBaraniuk_2006</td>\n",
       "    </tr>\n",
       "  </tbody>\n",
       "</table>\n",
       "</div>"
      ],
      "text/plain": [
       "              Nome   Ano Sexo    Set   t_min   t_max  \\\n",
       "0  RichardBaraniuk  2006    1  train  1012.0  1014.0   \n",
       "1  RichardBaraniuk  2006    1  train  1036.0  1038.0   \n",
       "2  RichardBaraniuk  2006    1  train   111.0   113.0   \n",
       "3  RichardBaraniuk  2006    1  train  1049.0  1051.0   \n",
       "4  RichardBaraniuk  2006    1  train  1058.0  1060.0   \n",
       "\n",
       "                  AudioName                  path  \n",
       "0  RichardBaraniuk_2006.sph  RichardBaraniuk_2006  \n",
       "1  RichardBaraniuk_2006.sph  RichardBaraniuk_2006  \n",
       "2  RichardBaraniuk_2006.sph  RichardBaraniuk_2006  \n",
       "3  RichardBaraniuk_2006.sph  RichardBaraniuk_2006  \n",
       "4  RichardBaraniuk_2006.sph  RichardBaraniuk_2006  "
      ]
     },
     "execution_count": 18,
     "metadata": {},
     "output_type": "execute_result"
    }
   ],
   "source": [
    "df.head()"
   ]
  },
  {
   "cell_type": "code",
   "execution_count": 18,
   "metadata": {},
   "outputs": [
    {
     "data": {
      "text/plain": [
       "1    0.504707\n",
       "0    0.495293\n",
       "Name: Sexo, dtype: float64"
      ]
     },
     "execution_count": 18,
     "metadata": {},
     "output_type": "execute_result"
    }
   ],
   "source": [
    "df.Sexo.value_counts(normalize=True)"
   ]
  },
  {
   "cell_type": "markdown",
   "metadata": {},
   "source": [
    "# -----------------\n",
    "# MUDAR\n",
    "# -----------------"
   ]
  },
  {
   "cell_type": "code",
   "execution_count": 2,
   "metadata": {},
   "outputs": [],
   "source": [
    "try:\n",
    "    type(df)==pd.DataFrame\n",
    "except:\n",
    "    df=pd.read_csv('./df_in.csv')"
   ]
  },
  {
   "cell_type": "code",
   "execution_count": null,
   "metadata": {},
   "outputs": [],
   "source": []
  },
  {
   "cell_type": "code",
   "execution_count": 3,
   "metadata": {},
   "outputs": [],
   "source": [
    "n_fft=512\n",
    "hop_length=1024"
   ]
  },
  {
   "cell_type": "code",
   "execution_count": 4,
   "metadata": {},
   "outputs": [],
   "source": [
    "def get_features(df_in):\n",
    "    features=[] #list to save features\n",
    "    labels=[] #list to save labels\n",
    "    for index in range(0,len(df_in)):\n",
    "        filename=f\"TEDLIUM_release1/{df_in.loc[index,'Set']}/sph/{df_in.loc[index,'AudioName']}\" #get the filename\n",
    "        tstart = df_in.iloc[index]['t_min'] \n",
    "        tend = df_in.iloc[index]['t_max'] \n",
    "        species_id = df_in.iloc[index]['Sexo'] \n",
    "        #load the file\n",
    "        sph_=sph.SPHFile(filename)\n",
    "        y=np.array(sph_.time_range(df_in.loc[index,'t_min'],df_in.loc[index,'t_max']),dtype='float32')\n",
    "        sr = sph_.format['sample_rate']\n",
    "        data = np.array(librosa.feature.mfcc(y,n_fft=n_fft,hop_length=hop_length,n_mfcc=24))\n",
    "        features.append(data)\n",
    "        labels.append(species_id)\n",
    "    output=np.concatenate(features,axis=0)\n",
    "    return(np.array(output), labels)\n",
    "X,y=get_features(df)"
   ]
  },
  {
   "cell_type": "code",
   "execution_count": 5,
   "metadata": {},
   "outputs": [],
   "source": [
    "XX=X\n",
    "yy=y"
   ]
  },
  {
   "cell_type": "code",
   "execution_count": 6,
   "metadata": {},
   "outputs": [],
   "source": [
    "media=np.mean(X)\n",
    "desv=np.std(X)"
   ]
  },
  {
   "cell_type": "code",
   "execution_count": 7,
   "metadata": {},
   "outputs": [],
   "source": [
    "X = np.array((X-np.mean(X))/np.std(X))\n",
    "y = np.array(y)"
   ]
  },
  {
   "cell_type": "code",
   "execution_count": 8,
   "metadata": {},
   "outputs": [
    {
     "data": {
      "text/plain": [
       "(163152, 32)"
      ]
     },
     "execution_count": 8,
     "metadata": {},
     "output_type": "execute_result"
    }
   ],
   "source": [
    "X.shape"
   ]
  },
  {
   "cell_type": "code",
   "execution_count": null,
   "metadata": {},
   "outputs": [],
   "source": []
  },
  {
   "cell_type": "code",
   "execution_count": 9,
   "metadata": {},
   "outputs": [],
   "source": [
    "X=X.reshape(y.shape[0],-1,32)"
   ]
  },
  {
   "cell_type": "code",
   "execution_count": 10,
   "metadata": {},
   "outputs": [
    {
     "data": {
      "text/plain": [
       "((3823, 24, 32), (1700, 24, 32), (1275, 24, 32), 3823, 1700, 1275)"
      ]
     },
     "execution_count": 10,
     "metadata": {},
     "output_type": "execute_result"
    }
   ],
   "source": [
    "X_train, X_test, y_train, y_test = train_test_split(X, y, test_size=0.25, random_state=314, stratify=y)\n",
    "X_train, X_val, y_train, y_val = train_test_split(X_train, y_train, test_size=0.25, random_state=314)\n",
    "#Print the shapes\n",
    "X_train.shape, X_test.shape, X_val.shape, len(y_train), len(y_test), len(y_val)"
   ]
  },
  {
   "cell_type": "code",
   "execution_count": 57,
   "metadata": {},
   "outputs": [
    {
     "name": "stdout",
     "output_type": "stream",
     "text": [
      "Model: \"sequential_6\"\n",
      "_________________________________________________________________\n",
      "Layer (type)                 Output Shape              Param #   \n",
      "=================================================================\n",
      "lstm_6 (LSTM)                (None, 128)               82432     \n",
      "_________________________________________________________________\n",
      "dropout_22 (Dropout)         (None, 128)               0         \n",
      "_________________________________________________________________\n",
      "dense_28 (Dense)             (None, 128)               16512     \n",
      "_________________________________________________________________\n",
      "dense_29 (Dense)             (None, 96)                12384     \n",
      "_________________________________________________________________\n",
      "dropout_23 (Dropout)         (None, 96)                0         \n",
      "_________________________________________________________________\n",
      "dense_30 (Dense)             (None, 64)                6208      \n",
      "_________________________________________________________________\n",
      "dropout_24 (Dropout)         (None, 64)                0         \n",
      "_________________________________________________________________\n",
      "dense_31 (Dense)             (None, 32)                2080      \n",
      "_________________________________________________________________\n",
      "dropout_25 (Dropout)         (None, 32)                0         \n",
      "_________________________________________________________________\n",
      "dense_32 (Dense)             (None, 2)                 66        \n",
      "=================================================================\n",
      "Total params: 119,682\n",
      "Trainable params: 119,682\n",
      "Non-trainable params: 0\n",
      "_________________________________________________________________\n"
     ]
    }
   ],
   "source": [
    "input_shape=X.shape[1:]\n",
    "model = keras.Sequential()\n",
    "model.add(LSTM(128,input_shape=input_shape))\n",
    "model.add(Dropout(0.2))\n",
    "model.add(Dense(128, activation='relu'))\n",
    "model.add(Dense(96, activation='relu'))\n",
    "model.add(Dropout(0.4))\n",
    "model.add(Dense(64, activation='relu'))\n",
    "model.add(Dropout(0.4))\n",
    "model.add(Dense(32, activation='relu'))\n",
    "model.add(Dropout(0.4))\n",
    "model.add(Dense(2, activation='softmax'))\n",
    "model.summary()"
   ]
  },
  {
   "cell_type": "code",
   "execution_count": 58,
   "metadata": {},
   "outputs": [],
   "source": [
    "ES=tf.keras.callbacks.EarlyStopping(patience=10)"
   ]
  },
  {
   "cell_type": "code",
   "execution_count": 59,
   "metadata": {},
   "outputs": [],
   "source": [
    "model.compile(optimizer='adam',loss='SparseCategoricalCrossentropy',metrics=['acc'])"
   ]
  },
  {
   "cell_type": "code",
   "execution_count": 60,
   "metadata": {
    "scrolled": false
   },
   "outputs": [
    {
     "name": "stdout",
     "output_type": "stream",
     "text": [
      "Epoch 1/100\n",
      "54/54 [==============================] - 3s 20ms/step - loss: 0.6891 - acc: 0.5210 - val_loss: 0.6968 - val_acc: 0.4839\n",
      "Epoch 2/100\n",
      "54/54 [==============================] - 1s 10ms/step - loss: 0.6930 - acc: 0.5081 - val_loss: 0.6975 - val_acc: 0.4910\n",
      "Epoch 3/100\n",
      "54/54 [==============================] - 1s 10ms/step - loss: 0.6502 - acc: 0.6132 - val_loss: 0.5113 - val_acc: 0.7467\n",
      "Epoch 4/100\n",
      "54/54 [==============================] - 1s 10ms/step - loss: 0.5576 - acc: 0.7240 - val_loss: 0.5578 - val_acc: 0.6965\n",
      "Epoch 5/100\n",
      "54/54 [==============================] - 1s 10ms/step - loss: 0.5378 - acc: 0.7387 - val_loss: 0.4712 - val_acc: 0.7639\n",
      "Epoch 6/100\n",
      "54/54 [==============================] - 1s 10ms/step - loss: 0.4916 - acc: 0.7739 - val_loss: 0.4580 - val_acc: 0.7890\n",
      "Epoch 7/100\n",
      "54/54 [==============================] - 1s 10ms/step - loss: 0.4973 - acc: 0.7729 - val_loss: 0.5083 - val_acc: 0.7898\n",
      "Epoch 8/100\n",
      "54/54 [==============================] - 1s 10ms/step - loss: 0.5149 - acc: 0.7541 - val_loss: 0.5059 - val_acc: 0.7686\n",
      "Epoch 9/100\n",
      "54/54 [==============================] - 1s 10ms/step - loss: 0.5033 - acc: 0.7623 - val_loss: 0.4691 - val_acc: 0.7984\n",
      "Epoch 10/100\n",
      "54/54 [==============================] - 1s 10ms/step - loss: 0.4855 - acc: 0.7866 - val_loss: 0.4841 - val_acc: 0.7498\n",
      "Epoch 11/100\n",
      "54/54 [==============================] - 1s 11ms/step - loss: 0.5031 - acc: 0.7561 - val_loss: 0.4372 - val_acc: 0.7969\n",
      "Epoch 12/100\n",
      "54/54 [==============================] - 1s 11ms/step - loss: 0.4732 - acc: 0.7821 - val_loss: 0.4487 - val_acc: 0.8008\n",
      "Epoch 13/100\n",
      "54/54 [==============================] - 1s 11ms/step - loss: 0.4611 - acc: 0.7855 - val_loss: 0.4512 - val_acc: 0.7976\n",
      "Epoch 14/100\n",
      "54/54 [==============================] - 1s 11ms/step - loss: 0.4642 - acc: 0.7912 - val_loss: 0.5064 - val_acc: 0.7373\n",
      "Epoch 15/100\n",
      "54/54 [==============================] - 1s 11ms/step - loss: 0.4857 - acc: 0.7617 - val_loss: 0.4222 - val_acc: 0.8016\n",
      "Epoch 16/100\n",
      "54/54 [==============================] - 1s 11ms/step - loss: 0.4210 - acc: 0.8151 - val_loss: 0.4809 - val_acc: 0.7929\n",
      "Epoch 17/100\n",
      "54/54 [==============================] - 1s 20ms/step - loss: 0.4780 - acc: 0.7784 - val_loss: 0.4163 - val_acc: 0.8055\n",
      "Epoch 18/100\n",
      "54/54 [==============================] - 2s 39ms/step - loss: 0.4321 - acc: 0.7988 - val_loss: 0.4123 - val_acc: 0.8204\n",
      "Epoch 19/100\n",
      "54/54 [==============================] - 1s 12ms/step - loss: 0.4332 - acc: 0.8103 - val_loss: 0.4377 - val_acc: 0.8118\n",
      "Epoch 20/100\n",
      "54/54 [==============================] - 1s 12ms/step - loss: 0.4253 - acc: 0.8004 - val_loss: 0.4550 - val_acc: 0.7851\n",
      "Epoch 21/100\n",
      "54/54 [==============================] - 1s 21ms/step - loss: 0.4264 - acc: 0.8212 - val_loss: 0.4881 - val_acc: 0.7475\n",
      "Epoch 22/100\n",
      "54/54 [==============================] - 1s 12ms/step - loss: 0.4185 - acc: 0.8323 - val_loss: 0.4878 - val_acc: 0.7545\n",
      "Epoch 23/100\n",
      "54/54 [==============================] - 1s 18ms/step - loss: 0.4004 - acc: 0.8307 - val_loss: 0.4591 - val_acc: 0.7608\n",
      "Epoch 24/100\n",
      "54/54 [==============================] - 1s 12ms/step - loss: 0.4221 - acc: 0.8164 - val_loss: 0.4072 - val_acc: 0.8078\n",
      "Epoch 25/100\n",
      "54/54 [==============================] - 1s 17ms/step - loss: 0.4110 - acc: 0.8255 - val_loss: 0.3887 - val_acc: 0.8149\n",
      "Epoch 26/100\n",
      "54/54 [==============================] - 2s 35ms/step - loss: 0.3705 - acc: 0.8415 - val_loss: 0.3865 - val_acc: 0.8384\n",
      "Epoch 27/100\n",
      "54/54 [==============================] - 1s 11ms/step - loss: 0.3763 - acc: 0.8491 - val_loss: 0.3856 - val_acc: 0.8259\n",
      "Epoch 28/100\n",
      "54/54 [==============================] - 1s 18ms/step - loss: 0.3799 - acc: 0.8387 - val_loss: 0.3729 - val_acc: 0.8455\n",
      "Epoch 29/100\n",
      "54/54 [==============================] - 1s 11ms/step - loss: 0.3672 - acc: 0.8519 - val_loss: 0.3908 - val_acc: 0.8369\n",
      "Epoch 30/100\n",
      "54/54 [==============================] - 1s 11ms/step - loss: 0.3801 - acc: 0.8425 - val_loss: 0.4273 - val_acc: 0.8031\n",
      "Epoch 31/100\n",
      "54/54 [==============================] - 1s 11ms/step - loss: 0.3962 - acc: 0.8394 - val_loss: 0.3727 - val_acc: 0.8306\n",
      "Epoch 32/100\n",
      "54/54 [==============================] - 1s 11ms/step - loss: 0.3535 - acc: 0.8485 - val_loss: 0.3616 - val_acc: 0.8400\n",
      "Epoch 33/100\n",
      "54/54 [==============================] - 1s 20ms/step - loss: 0.3546 - acc: 0.8579 - val_loss: 0.3614 - val_acc: 0.8463\n",
      "Epoch 34/100\n",
      "54/54 [==============================] - 1s 11ms/step - loss: 0.3298 - acc: 0.8739 - val_loss: 0.4105 - val_acc: 0.8204\n",
      "Epoch 35/100\n",
      "54/54 [==============================] - 2s 37ms/step - loss: 0.3578 - acc: 0.8528 - val_loss: 0.3963 - val_acc: 0.8322\n",
      "Epoch 36/100\n",
      "54/54 [==============================] - 2s 43ms/step - loss: 0.3553 - acc: 0.8503 - val_loss: 0.4542 - val_acc: 0.7992\n",
      "Epoch 37/100\n",
      "54/54 [==============================] - 2s 43ms/step - loss: 0.3668 - acc: 0.8398 - val_loss: 0.2946 - val_acc: 0.8800\n",
      "Epoch 38/100\n",
      "54/54 [==============================] - 2s 43ms/step - loss: 0.2710 - acc: 0.8934 - val_loss: 0.2761 - val_acc: 0.8973\n",
      "Epoch 39/100\n",
      "54/54 [==============================] - 2s 43ms/step - loss: 0.2452 - acc: 0.9069 - val_loss: 0.2605 - val_acc: 0.8933\n",
      "Epoch 40/100\n",
      "54/54 [==============================] - 2s 43ms/step - loss: 0.2407 - acc: 0.9116 - val_loss: 0.2488 - val_acc: 0.9012\n",
      "Epoch 41/100\n",
      "54/54 [==============================] - 2s 43ms/step - loss: 0.2246 - acc: 0.9129 - val_loss: 0.2560 - val_acc: 0.8973\n",
      "Epoch 42/100\n",
      "54/54 [==============================] - 2s 43ms/step - loss: 0.2317 - acc: 0.9058 - val_loss: 0.2663 - val_acc: 0.9043\n",
      "Epoch 43/100\n",
      "54/54 [==============================] - 2s 42ms/step - loss: 0.2403 - acc: 0.9052 - val_loss: 0.3279 - val_acc: 0.8580\n",
      "Epoch 44/100\n",
      "54/54 [==============================] - 2s 43ms/step - loss: 0.2584 - acc: 0.8992 - val_loss: 0.2389 - val_acc: 0.9082\n",
      "Epoch 45/100\n",
      "54/54 [==============================] - 2s 43ms/step - loss: 0.2093 - acc: 0.9111 - val_loss: 0.2425 - val_acc: 0.8996\n",
      "Epoch 46/100\n",
      "54/54 [==============================] - 2s 43ms/step - loss: 0.2209 - acc: 0.9169 - val_loss: 0.2810 - val_acc: 0.8957\n",
      "Epoch 47/100\n",
      "54/54 [==============================] - 2s 43ms/step - loss: 0.2120 - acc: 0.9223 - val_loss: 0.2538 - val_acc: 0.9004\n",
      "Epoch 48/100\n",
      "54/54 [==============================] - 2s 43ms/step - loss: 0.1909 - acc: 0.9263 - val_loss: 0.2329 - val_acc: 0.9051\n",
      "Epoch 49/100\n",
      "54/54 [==============================] - 2s 43ms/step - loss: 0.1673 - acc: 0.9361 - val_loss: 0.2770 - val_acc: 0.8878\n",
      "Epoch 50/100\n",
      "54/54 [==============================] - 2s 43ms/step - loss: 0.1920 - acc: 0.9171 - val_loss: 0.2694 - val_acc: 0.9051\n",
      "Epoch 51/100\n",
      "54/54 [==============================] - 2s 43ms/step - loss: 0.2145 - acc: 0.9092 - val_loss: 0.2753 - val_acc: 0.8957\n",
      "Epoch 52/100\n",
      "54/54 [==============================] - 2s 43ms/step - loss: 0.1950 - acc: 0.9222 - val_loss: 0.2439 - val_acc: 0.9114\n",
      "Epoch 53/100\n",
      "54/54 [==============================] - 2s 43ms/step - loss: 0.2117 - acc: 0.9124 - val_loss: 0.2387 - val_acc: 0.9114\n",
      "Epoch 54/100\n",
      "54/54 [==============================] - 2s 43ms/step - loss: 0.1679 - acc: 0.9332 - val_loss: 0.2337 - val_acc: 0.9043\n",
      "Epoch 55/100\n",
      "54/54 [==============================] - 2s 43ms/step - loss: 0.1787 - acc: 0.9280 - val_loss: 0.2427 - val_acc: 0.9169\n",
      "Epoch 56/100\n",
      "54/54 [==============================] - 2s 43ms/step - loss: 0.2029 - acc: 0.9207 - val_loss: 0.3158 - val_acc: 0.8847\n",
      "Epoch 57/100\n",
      "54/54 [==============================] - 2s 43ms/step - loss: 0.2002 - acc: 0.9183 - val_loss: 0.2594 - val_acc: 0.9200\n",
      "Epoch 58/100\n",
      "54/54 [==============================] - 2s 42ms/step - loss: 0.1565 - acc: 0.9356 - val_loss: 0.2462 - val_acc: 0.9145\n"
     ]
    }
   ],
   "source": [
    "history = model.fit(X_train, y_train, epochs=100, batch_size=72,validation_data=(X_val, y_val),callbacks=[ES])"
   ]
  },
  {
   "cell_type": "code",
   "execution_count": 79,
   "metadata": {},
   "outputs": [
    {
     "data": {
      "image/png": "[encoded data removed]",
      "text/plain": [
       "<Figure size 1080x360 with 2 Axes>"
      ]
     },
     "metadata": {},
     "output_type": "display_data"
    }
   ],
   "source": [
    "#Adapted from Deep Learning with Python by Francois Chollet, 2018\n",
    "history_dict=history.history\n",
    "loss_values=history_dict['loss']\n",
    "acc_values=history_dict['acc']\n",
    "val_loss_values = history_dict['val_loss']\n",
    "val_acc_values=history_dict['val_acc']\n",
    "epochs=range(1,len(history.history['loss'])+1)\n",
    "fig,(ax1,ax2)=plt.subplots(1,2,figsize=(15,5))\n",
    "ax1.plot(epochs,loss_values,'co',label='Training Loss')\n",
    "ax1.plot(epochs,val_loss_values,'m', label='Validation Loss')\n",
    "ax1.set_title('Training and validation loss')\n",
    "ax1.set_xlabel('Epochs')\n",
    "ax1.set_ylabel('Loss')\n",
    "ax1.legend()\n",
    "ax2.plot(epochs,acc_values,'co', label='Training accuracy')\n",
    "ax2.plot(epochs,val_acc_values,'m',label='Validation accuracy')\n",
    "ax2.set_title('Training and validation accuracy')\n",
    "ax2.set_xlabel('Epochs')\n",
    "ax2.set_ylabel('Accuracy')\n",
    "ax2.legend()\n",
    "plt.show()"
   ]
  },
  {
   "cell_type": "code",
   "execution_count": 80,
   "metadata": {},
   "outputs": [
    {
     "name": "stdout",
     "output_type": "stream",
     "text": [
      "120/120 [==============================] - 0s 3ms/step - loss: 0.1279 - acc: 0.9508\n",
      "54/54 [==============================] - 0s 3ms/step - loss: 0.2837 - acc: 0.9082\n"
     ]
    }
   ],
   "source": [
    "TrainLoss, Trainacc = model.evaluate(X_train,y_train)\n",
    "TestLoss, Testacc = model.evaluate(X_test, y_test)\n",
    "y_pred=model.predict(X_test)"
   ]
  },
  {
   "cell_type": "code",
   "execution_count": null,
   "metadata": {},
   "outputs": [],
   "source": []
  },
  {
   "cell_type": "code",
   "execution_count": 81,
   "metadata": {},
   "outputs": [],
   "source": [
    "import scikitplot as skplt"
   ]
  },
  {
   "cell_type": "code",
   "execution_count": 82,
   "metadata": {},
   "outputs": [
    {
     "name": "stderr",
     "output_type": "stream",
     "text": [
      "C:\\ProgramData\\Anaconda3\\lib\\site-packages\\sklearn\\utils\\deprecation.py:86: FutureWarning: Function plot_ks_statistic is deprecated; This will be removed in v0.4.0. Please use scikitplot.metrics.plot_ks_statistic instead.\n",
      "  warnings.warn(msg, category=FutureWarning)\n"
     ]
    },
    {
     "data": {
      "text/plain": [
       "<matplotlib.axes._subplots.AxesSubplot at 0x1b98b2f30d0>"
      ]
     },
     "execution_count": 82,
     "metadata": {},
     "output_type": "execute_result"
    },
    {
     "data": {
      "image/png": "[encoded data removed]",
      "text/plain": [
       "<Figure size 432x288 with 1 Axes>"
      ]
     },
     "metadata": {},
     "output_type": "display_data"
    }
   ],
   "source": [
    "skplt.plotters.plot_ks_statistic(y_test,y_pred)"
   ]
  },
  {
   "cell_type": "code",
   "execution_count": 83,
   "metadata": {},
   "outputs": [
    {
     "name": "stderr",
     "output_type": "stream",
     "text": [
      "C:\\ProgramData\\Anaconda3\\lib\\site-packages\\sklearn\\utils\\deprecation.py:86: FutureWarning: Function plot_roc_curve is deprecated; This will be removed in v0.4.0. Please use scikitplot.metrics.plot_roc_curve instead.\n",
      "  warnings.warn(msg, category=FutureWarning)\n"
     ]
    },
    {
     "data": {
      "text/plain": [
       "<matplotlib.axes._subplots.AxesSubplot at 0x1b985957c70>"
      ]
     },
     "execution_count": 83,
     "metadata": {},
     "output_type": "execute_result"
    },
    {
     "data": {
      "image/png": "[encoded data removed]",
      "text/plain": [
       "<Figure size 432x288 with 1 Axes>"
      ]
     },
     "metadata": {},
     "output_type": "display_data"
    }
   ],
   "source": [
    "skplt.plotters.plot_roc_curve(y_test,y_pred)"
   ]
  },
  {
   "cell_type": "code",
   "execution_count": 84,
   "metadata": {},
   "outputs": [
    {
     "data": {
      "text/plain": [
       "<matplotlib.legend.Legend at 0x1b8d6e22ca0>"
      ]
     },
     "execution_count": 84,
     "metadata": {},
     "output_type": "execute_result"
    },
    {
     "data": {
      "image/png": "[encoded data removed]",
      "text/plain": [
       "<Figure size 432x288 with 1 Axes>"
      ]
     },
     "metadata": {},
     "output_type": "display_data"
    }
   ],
   "source": [
    "sb.kdeplot(y_pred[y_test==0,1],shade=True)\n",
    "sb.kdeplot(y_pred[y_test==1,1],shade=True)\n",
    "plt.legend(['Mulheres','Homens'])"
   ]
  },
  {
   "cell_type": "code",
   "execution_count": null,
   "metadata": {},
   "outputs": [],
   "source": []
  },
  {
   "cell_type": "code",
   "execution_count": 72,
   "metadata": {},
   "outputs": [],
   "source": [
    "import scipy.stats as st "
   ]
  },
  {
   "cell_type": "code",
   "execution_count": 108,
   "metadata": {},
   "outputs": [],
   "source": [
    "best_threshold=st.ks_2samp(y_pred[y_test==0,1],y_pred[y_test==1,1])[0]"
   ]
  },
  {
   "cell_type": "code",
   "execution_count": 109,
   "metadata": {},
   "outputs": [
    {
     "data": {
      "text/plain": [
       "array([[0.47411765, 0.02117647],\n",
       "       [0.08411765, 0.42058824]])"
      ]
     },
     "execution_count": 109,
     "metadata": {},
     "output_type": "execute_result"
    }
   ],
   "source": [
    "metrics.confusion_matrix(y_test,y_pred[:,1]>best_threshold)/y_test.shape[0]"
   ]
  },
  {
   "cell_type": "code",
   "execution_count": 75,
   "metadata": {},
   "outputs": [
    {
     "data": {
      "text/plain": [
       "array([[0.44647059, 0.04882353],\n",
       "       [0.04294118, 0.46176471]])"
      ]
     },
     "execution_count": 75,
     "metadata": {},
     "output_type": "execute_result"
    }
   ],
   "source": [
    "metrics.confusion_matrix(y_test,y_pred[:,1]>0.5)/y_test.shape[0]"
   ]
  },
  {
   "cell_type": "markdown",
   "metadata": {},
   "source": [
    "# "
   ]
  },
  {
   "cell_type": "code",
   "execution_count": null,
   "metadata": {},
   "outputs": [],
   "source": []
  },
  {
   "cell_type": "code",
   "execution_count": null,
   "metadata": {},
   "outputs": [],
   "source": []
  },
  {
   "cell_type": "code",
   "execution_count": null,
   "metadata": {},
   "outputs": [],
   "source": []
  },
  {
   "cell_type": "code",
   "execution_count": null,
   "metadata": {},
   "outputs": [],
   "source": []
  },
  {
   "cell_type": "code",
   "execution_count": 96,
   "metadata": {},
   "outputs": [],
   "source": [
    "import winsound"
   ]
  },
  {
   "cell_type": "code",
   "execution_count": 97,
   "metadata": {},
   "outputs": [],
   "source": [
    "winsound.Beep(440,1000)\n",
    "winsound.Beep(660,1000)\n",
    "winsound.Beep(220,1000)"
   ]
  },
  {
   "cell_type": "code",
   "execution_count": null,
   "metadata": {},
   "outputs": [],
   "source": []
  },
  {
   "cell_type": "code",
   "execution_count": 17,
   "metadata": {},
   "outputs": [],
   "source": [
    "import joblib"
   ]
  },
  {
   "cell_type": "code",
   "execution_count": 18,
   "metadata": {},
   "outputs": [
    {
     "data": {
      "text/plain": [
       "['train_test.pickle']"
      ]
     },
     "execution_count": 18,
     "metadata": {},
     "output_type": "execute_result"
    }
   ],
   "source": [
    "joblib.dump(trilha,'train_test.pickle',compress=True)"
   ]
  }
 ],
 "metadata": {
  "kernelspec": {
   "display_name": "Python 3",
   "language": "python",
   "name": "python3"
  },
  "language_info": {
   "codemirror_mode": {
    "name": "ipython",
    "version": 3
   },
   "file_extension": ".py",
   "mimetype": "text/x-python",
   "name": "python",
   "nbconvert_exporter": "python",
   "pygments_lexer": "ipython3",
   "version": "3.8.1"
  }
 },
 "nbformat": 4,
 "nbformat_minor": 4
}
